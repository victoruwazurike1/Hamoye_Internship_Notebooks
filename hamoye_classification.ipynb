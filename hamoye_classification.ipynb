{
  "nbformat": 4,
  "nbformat_minor": 0,
  "metadata": {
    "colab": {
      "name": "hamoye_classification.ipynb",
      "provenance": [],
      "authorship_tag": "ABX9TyNo35bzSiud2zaraBhZJfXM",
      "include_colab_link": true
    },
    "kernelspec": {
      "name": "python3",
      "display_name": "Python 3"
    },
    "language_info": {
      "name": "python"
    }
  },
  "cells": [
    {
      "cell_type": "markdown",
      "metadata": {
        "id": "view-in-github",
        "colab_type": "text"
      },
      "source": [
        "<a href=\"https://colab.research.google.com/github/victoruwazurike1/Hamoye_Internship_Notebooks/blob/main/hamoye_classification.ipynb\" target=\"_parent\"><img src=\"https://colab.research.google.com/assets/colab-badge.svg\" alt=\"Open In Colab\"/></a>"
      ]
    },
    {
      "cell_type": "code",
      "execution_count": 56,
      "metadata": {
        "id": "yWFCwz-Jj4QB"
      },
      "outputs": [],
      "source": [
        "import pandas as pd\n",
        "import numpy as np\n",
        "import sklearn.utils\n",
        "from sklearn.model_selection import train_test_split, cross_val_score, KFold\n",
        "from sklearn.preprocessing import LabelEncoder, MinMaxScaler\n",
        "from sklearn.linear_model import LogisticRegression\n",
        "from sklearn.metrics import f1_score\n",
        "from imblearn.over_sampling import SMOTE \n",
        "\n",
        "import matplotlib\n",
        "import matplotlib.pyplot as plt\n",
        "plt.style.use('ggplot')\n",
        "from matplotlib.pyplot import figure\n",
        "\n",
        "%matplotlib inline \n",
        "matplotlib.rcParams['figure.figsize'] = [14,10] # This is to set the configuration of the plots we will create in this analysis"
      ]
    },
    {
      "cell_type": "code",
      "source": [
        "df = pd.read_csv('https://query.data.world/s/wh6j7rxy2hvrn4ml75ci62apk5hgae') "
      ],
      "metadata": {
        "colab": {
          "base_uri": "https://localhost:8080/"
        },
        "id": "i-C_yRsskDsS",
        "outputId": "8cefe934-580f-4c15-8484-875d9a0fad90"
      },
      "execution_count": 2,
      "outputs": [
        {
          "output_type": "stream",
          "name": "stderr",
          "text": [
            "/usr/local/lib/python3.7/dist-packages/IPython/core/interactiveshell.py:2882: DtypeWarning: Columns (6) have mixed types.Specify dtype option on import or set low_memory=False.\n",
            "  exec(code_obj, self.user_global_ns, self.user_ns)\n"
          ]
        }
      ]
    },
    {
      "cell_type": "code",
      "source": [
        "df.head()"
      ],
      "metadata": {
        "colab": {
          "base_uri": "https://localhost:8080/",
          "height": 250
        },
        "id": "vMZThjvlkQuZ",
        "outputId": "cda626c7-19d7-4149-f62d-0d65cdd19ad7"
      },
      "execution_count": 3,
      "outputs": [
        {
          "output_type": "execute_result",
          "data": {
            "text/html": [
              "\n",
              "  <div id=\"df-50c94ee4-5da5-4299-b12e-3ce92de115cf\">\n",
              "    <div class=\"colab-df-container\">\n",
              "      <div>\n",
              "<style scoped>\n",
              "    .dataframe tbody tr th:only-of-type {\n",
              "        vertical-align: middle;\n",
              "    }\n",
              "\n",
              "    .dataframe tbody tr th {\n",
              "        vertical-align: top;\n",
              "    }\n",
              "\n",
              "    .dataframe thead th {\n",
              "        text-align: right;\n",
              "    }\n",
              "</style>\n",
              "<table border=\"1\" class=\"dataframe\">\n",
              "  <thead>\n",
              "    <tr style=\"text-align: right;\">\n",
              "      <th></th>\n",
              "      <th>country</th>\n",
              "      <th>year</th>\n",
              "      <th>country_code</th>\n",
              "      <th>record</th>\n",
              "      <th>crop_land</th>\n",
              "      <th>grazing_land</th>\n",
              "      <th>forest_land</th>\n",
              "      <th>fishing_ground</th>\n",
              "      <th>built_up_land</th>\n",
              "      <th>carbon</th>\n",
              "      <th>total</th>\n",
              "      <th>QScore</th>\n",
              "    </tr>\n",
              "  </thead>\n",
              "  <tbody>\n",
              "    <tr>\n",
              "      <th>0</th>\n",
              "      <td>Armenia</td>\n",
              "      <td>1992</td>\n",
              "      <td>1</td>\n",
              "      <td>AreaPerCap</td>\n",
              "      <td>0.140292</td>\n",
              "      <td>0.199546</td>\n",
              "      <td>0.097188051</td>\n",
              "      <td>0.036888</td>\n",
              "      <td>0.029320</td>\n",
              "      <td>0.000000</td>\n",
              "      <td>5.032351e-01</td>\n",
              "      <td>3A</td>\n",
              "    </tr>\n",
              "    <tr>\n",
              "      <th>1</th>\n",
              "      <td>Armenia</td>\n",
              "      <td>1992</td>\n",
              "      <td>1</td>\n",
              "      <td>AreaTotHA</td>\n",
              "      <td>483000.000000</td>\n",
              "      <td>687000.000000</td>\n",
              "      <td>334600</td>\n",
              "      <td>127000.000000</td>\n",
              "      <td>100943.000800</td>\n",
              "      <td>0.000000</td>\n",
              "      <td>1.732543e+06</td>\n",
              "      <td>3A</td>\n",
              "    </tr>\n",
              "    <tr>\n",
              "      <th>2</th>\n",
              "      <td>Armenia</td>\n",
              "      <td>1992</td>\n",
              "      <td>1</td>\n",
              "      <td>BiocapPerCap</td>\n",
              "      <td>0.159804</td>\n",
              "      <td>0.135261</td>\n",
              "      <td>0.084003213</td>\n",
              "      <td>0.013742</td>\n",
              "      <td>0.033398</td>\n",
              "      <td>0.000000</td>\n",
              "      <td>4.262086e-01</td>\n",
              "      <td>3A</td>\n",
              "    </tr>\n",
              "    <tr>\n",
              "      <th>3</th>\n",
              "      <td>Armenia</td>\n",
              "      <td>1992</td>\n",
              "      <td>1</td>\n",
              "      <td>BiocapTotGHA</td>\n",
              "      <td>550176.242700</td>\n",
              "      <td>465677.972200</td>\n",
              "      <td>289207.1078</td>\n",
              "      <td>47311.551720</td>\n",
              "      <td>114982.279300</td>\n",
              "      <td>0.000000</td>\n",
              "      <td>1.467355e+06</td>\n",
              "      <td>3A</td>\n",
              "    </tr>\n",
              "    <tr>\n",
              "      <th>4</th>\n",
              "      <td>Armenia</td>\n",
              "      <td>1992</td>\n",
              "      <td>1</td>\n",
              "      <td>EFConsPerCap</td>\n",
              "      <td>0.387510</td>\n",
              "      <td>0.189462</td>\n",
              "      <td>1.26E-06</td>\n",
              "      <td>0.004165</td>\n",
              "      <td>0.033398</td>\n",
              "      <td>1.114093</td>\n",
              "      <td>1.728629e+00</td>\n",
              "      <td>3A</td>\n",
              "    </tr>\n",
              "  </tbody>\n",
              "</table>\n",
              "</div>\n",
              "      <button class=\"colab-df-convert\" onclick=\"convertToInteractive('df-50c94ee4-5da5-4299-b12e-3ce92de115cf')\"\n",
              "              title=\"Convert this dataframe to an interactive table.\"\n",
              "              style=\"display:none;\">\n",
              "        \n",
              "  <svg xmlns=\"http://www.w3.org/2000/svg\" height=\"24px\"viewBox=\"0 0 24 24\"\n",
              "       width=\"24px\">\n",
              "    <path d=\"M0 0h24v24H0V0z\" fill=\"none\"/>\n",
              "    <path d=\"M18.56 5.44l.94 2.06.94-2.06 2.06-.94-2.06-.94-.94-2.06-.94 2.06-2.06.94zm-11 1L8.5 8.5l.94-2.06 2.06-.94-2.06-.94L8.5 2.5l-.94 2.06-2.06.94zm10 10l.94 2.06.94-2.06 2.06-.94-2.06-.94-.94-2.06-.94 2.06-2.06.94z\"/><path d=\"M17.41 7.96l-1.37-1.37c-.4-.4-.92-.59-1.43-.59-.52 0-1.04.2-1.43.59L10.3 9.45l-7.72 7.72c-.78.78-.78 2.05 0 2.83L4 21.41c.39.39.9.59 1.41.59.51 0 1.02-.2 1.41-.59l7.78-7.78 2.81-2.81c.8-.78.8-2.07 0-2.86zM5.41 20L4 18.59l7.72-7.72 1.47 1.35L5.41 20z\"/>\n",
              "  </svg>\n",
              "      </button>\n",
              "      \n",
              "  <style>\n",
              "    .colab-df-container {\n",
              "      display:flex;\n",
              "      flex-wrap:wrap;\n",
              "      gap: 12px;\n",
              "    }\n",
              "\n",
              "    .colab-df-convert {\n",
              "      background-color: #E8F0FE;\n",
              "      border: none;\n",
              "      border-radius: 50%;\n",
              "      cursor: pointer;\n",
              "      display: none;\n",
              "      fill: #1967D2;\n",
              "      height: 32px;\n",
              "      padding: 0 0 0 0;\n",
              "      width: 32px;\n",
              "    }\n",
              "\n",
              "    .colab-df-convert:hover {\n",
              "      background-color: #E2EBFA;\n",
              "      box-shadow: 0px 1px 2px rgba(60, 64, 67, 0.3), 0px 1px 3px 1px rgba(60, 64, 67, 0.15);\n",
              "      fill: #174EA6;\n",
              "    }\n",
              "\n",
              "    [theme=dark] .colab-df-convert {\n",
              "      background-color: #3B4455;\n",
              "      fill: #D2E3FC;\n",
              "    }\n",
              "\n",
              "    [theme=dark] .colab-df-convert:hover {\n",
              "      background-color: #434B5C;\n",
              "      box-shadow: 0px 1px 3px 1px rgba(0, 0, 0, 0.15);\n",
              "      filter: drop-shadow(0px 1px 2px rgba(0, 0, 0, 0.3));\n",
              "      fill: #FFFFFF;\n",
              "    }\n",
              "  </style>\n",
              "\n",
              "      <script>\n",
              "        const buttonEl =\n",
              "          document.querySelector('#df-50c94ee4-5da5-4299-b12e-3ce92de115cf button.colab-df-convert');\n",
              "        buttonEl.style.display =\n",
              "          google.colab.kernel.accessAllowed ? 'block' : 'none';\n",
              "\n",
              "        async function convertToInteractive(key) {\n",
              "          const element = document.querySelector('#df-50c94ee4-5da5-4299-b12e-3ce92de115cf');\n",
              "          const dataTable =\n",
              "            await google.colab.kernel.invokeFunction('convertToInteractive',\n",
              "                                                     [key], {});\n",
              "          if (!dataTable) return;\n",
              "\n",
              "          const docLinkHtml = 'Like what you see? Visit the ' +\n",
              "            '<a target=\"_blank\" href=https://colab.research.google.com/notebooks/data_table.ipynb>data table notebook</a>'\n",
              "            + ' to learn more about interactive tables.';\n",
              "          element.innerHTML = '';\n",
              "          dataTable['output_type'] = 'display_data';\n",
              "          await google.colab.output.renderOutput(dataTable, element);\n",
              "          const docLink = document.createElement('div');\n",
              "          docLink.innerHTML = docLinkHtml;\n",
              "          element.appendChild(docLink);\n",
              "        }\n",
              "      </script>\n",
              "    </div>\n",
              "  </div>\n",
              "  "
            ],
            "text/plain": [
              "   country  year  country_code  ...    carbon         total  QScore\n",
              "0  Armenia  1992             1  ...  0.000000  5.032351e-01      3A\n",
              "1  Armenia  1992             1  ...  0.000000  1.732543e+06      3A\n",
              "2  Armenia  1992             1  ...  0.000000  4.262086e-01      3A\n",
              "3  Armenia  1992             1  ...  0.000000  1.467355e+06      3A\n",
              "4  Armenia  1992             1  ...  1.114093  1.728629e+00      3A\n",
              "\n",
              "[5 rows x 12 columns]"
            ]
          },
          "metadata": {},
          "execution_count": 3
        }
      ]
    },
    {
      "cell_type": "code",
      "source": [
        "df.info()"
      ],
      "metadata": {
        "colab": {
          "base_uri": "https://localhost:8080/"
        },
        "id": "xc65VqpLlJhX",
        "outputId": "9e2373bc-ce83-42fb-8864-ee10db3af4dc"
      },
      "execution_count": 9,
      "outputs": [
        {
          "output_type": "stream",
          "name": "stdout",
          "text": [
            "<class 'pandas.core.frame.DataFrame'>\n",
            "RangeIndex: 72186 entries, 0 to 72185\n",
            "Data columns (total 12 columns):\n",
            " #   Column          Non-Null Count  Dtype  \n",
            "---  ------          --------------  -----  \n",
            " 0   country         72186 non-null  object \n",
            " 1   year            72186 non-null  int64  \n",
            " 2   country_code    72186 non-null  int64  \n",
            " 3   record          72186 non-null  object \n",
            " 4   crop_land       51714 non-null  float64\n",
            " 5   grazing_land    51714 non-null  float64\n",
            " 6   forest_land     51714 non-null  object \n",
            " 7   fishing_ground  51713 non-null  float64\n",
            " 8   built_up_land   51713 non-null  float64\n",
            " 9   carbon          51713 non-null  float64\n",
            " 10  total           72177 non-null  float64\n",
            " 11  QScore          72185 non-null  object \n",
            "dtypes: float64(6), int64(2), object(4)\n",
            "memory usage: 6.6+ MB\n"
          ]
        }
      ]
    },
    {
      "cell_type": "code",
      "source": [
        "# Let us check the distribution of target variable\n",
        "df['QScore'].value_counts()"
      ],
      "metadata": {
        "colab": {
          "base_uri": "https://localhost:8080/"
        },
        "id": "k1csfoQZkbRO",
        "outputId": "08538acd-bfa9-4c40-d032-288055a28357"
      },
      "execution_count": 7,
      "outputs": [
        {
          "output_type": "execute_result",
          "data": {
            "text/plain": [
              "3A    51481\n",
              "2A    10576\n",
              "2B    10096\n",
              "1A       16\n",
              "1B       16\n",
              "Name: QScore, dtype: int64"
            ]
          },
          "metadata": {},
          "execution_count": 7
        }
      ]
    },
    {
      "cell_type": "markdown",
      "source": [
        "We can see that the target column is highly imbalanced"
      ],
      "metadata": {
        "id": "NPqmcCw_k7Ek"
      }
    },
    {
      "cell_type": "code",
      "source": [
        "df.isna().sum()"
      ],
      "metadata": {
        "colab": {
          "base_uri": "https://localhost:8080/"
        },
        "id": "9lZ0nKr1lCGK",
        "outputId": "bb3e1eb4-7b7c-4ae9-8eee-b67ebf2274ce"
      },
      "execution_count": 8,
      "outputs": [
        {
          "output_type": "execute_result",
          "data": {
            "text/plain": [
              "country               0\n",
              "year                  0\n",
              "country_code          0\n",
              "record                0\n",
              "crop_land         20472\n",
              "grazing_land      20472\n",
              "forest_land       20472\n",
              "fishing_ground    20473\n",
              "built_up_land     20473\n",
              "carbon            20473\n",
              "total                 9\n",
              "QScore                1\n",
              "dtype: int64"
            ]
          },
          "metadata": {},
          "execution_count": 8
        }
      ]
    },
    {
      "cell_type": "code",
      "source": [
        "# For simplicity we aaare going to drop the missing values\n",
        "df = df.dropna()"
      ],
      "metadata": {
        "id": "EIXQ7rPylUbJ"
      },
      "execution_count": 10,
      "outputs": []
    },
    {
      "cell_type": "code",
      "source": [
        "# We can now check again to confirm the null values have been dropped\n",
        "df.isna().sum()\n"
      ],
      "metadata": {
        "colab": {
          "base_uri": "https://localhost:8080/"
        },
        "id": "bquM8d8HldOK",
        "outputId": "0e872aca-bba7-4790-9972-052b772b81a6"
      },
      "execution_count": 11,
      "outputs": [
        {
          "output_type": "execute_result",
          "data": {
            "text/plain": [
              "country           0\n",
              "year              0\n",
              "country_code      0\n",
              "record            0\n",
              "crop_land         0\n",
              "grazing_land      0\n",
              "forest_land       0\n",
              "fishing_ground    0\n",
              "built_up_land     0\n",
              "carbon            0\n",
              "total             0\n",
              "QScore            0\n",
              "dtype: int64"
            ]
          },
          "metadata": {},
          "execution_count": 11
        }
      ]
    },
    {
      "cell_type": "code",
      "source": [
        "# We have confirmed we don't have any null values\n",
        "# Now we will check how many classes our target variable has \n",
        "df['QScore'].value_counts()"
      ],
      "metadata": {
        "colab": {
          "base_uri": "https://localhost:8080/"
        },
        "id": "k7Xf40A9lnG5",
        "outputId": "4566d9d1-c115-489c-9e0c-b5eb8b191946"
      },
      "execution_count": 12,
      "outputs": [
        {
          "output_type": "execute_result",
          "data": {
            "text/plain": [
              "3A    51473\n",
              "2A      224\n",
              "1A       16\n",
              "Name: QScore, dtype: int64"
            ]
          },
          "metadata": {},
          "execution_count": 12
        }
      ]
    },
    {
      "cell_type": "code",
      "source": [
        "# We see that we are left with 3 classes but still highly imbalanced\n",
        "# Let us convert this to a binary classification problem by converting class '1A' and '2A'\n",
        "df[ 'QScore' ] = df[ 'QScore' ].replace([ '1A' ], '2A' )\n"
      ],
      "metadata": {
        "id": "4LQZOl0Dl3BC"
      },
      "execution_count": 13,
      "outputs": []
    },
    {
      "cell_type": "code",
      "source": [
        "# Now we have just 2 classes left\n",
        "df['QScore'].value_counts()"
      ],
      "metadata": {
        "colab": {
          "base_uri": "https://localhost:8080/"
        },
        "id": "9tWtL42mmeGH",
        "outputId": "6b769912-ccb5-455d-fcdd-c617a07d898a"
      },
      "execution_count": 14,
      "outputs": [
        {
          "output_type": "execute_result",
          "data": {
            "text/plain": [
              "3A    51473\n",
              "2A      240\n",
              "Name: QScore, dtype: int64"
            ]
          },
          "metadata": {},
          "execution_count": 14
        }
      ]
    },
    {
      "cell_type": "code",
      "source": [
        "# We are going to undersample class '3A'\n",
        "df_2A = df[df.QScore== '2A' ]\n",
        "df_3A = df[df.QScore== '3A' ].sample(350)\n",
        "data_df = df_2A.append(df_3A) "
      ],
      "metadata": {
        "id": "VfWcBFpEnZF9"
      },
      "execution_count": 23,
      "outputs": []
    },
    {
      "cell_type": "code",
      "source": [
        "data_df['QScore'].value_counts()"
      ],
      "metadata": {
        "colab": {
          "base_uri": "https://localhost:8080/"
        },
        "id": "gkY2T-MfnpuW",
        "outputId": "e3fb728d-01d4-4060-d25b-20746d83ebf1"
      },
      "execution_count": 24,
      "outputs": [
        {
          "output_type": "execute_result",
          "data": {
            "text/plain": [
              "3A    350\n",
              "2A    240\n",
              "Name: QScore, dtype: int64"
            ]
          },
          "metadata": {},
          "execution_count": 24
        }
      ]
    },
    {
      "cell_type": "code",
      "source": [
        "data_df.info()"
      ],
      "metadata": {
        "colab": {
          "base_uri": "https://localhost:8080/"
        },
        "id": "WAkwn40PnbqH",
        "outputId": "550da4ad-88ff-48f7-bc8e-2607ced6bc9b"
      },
      "execution_count": 25,
      "outputs": [
        {
          "output_type": "stream",
          "name": "stdout",
          "text": [
            "<class 'pandas.core.frame.DataFrame'>\n",
            "Int64Index: 590 entries, 1536 to 48894\n",
            "Data columns (total 12 columns):\n",
            " #   Column          Non-Null Count  Dtype  \n",
            "---  ------          --------------  -----  \n",
            " 0   country         590 non-null    object \n",
            " 1   year            590 non-null    int64  \n",
            " 2   country_code    590 non-null    int64  \n",
            " 3   record          590 non-null    object \n",
            " 4   crop_land       590 non-null    float64\n",
            " 5   grazing_land    590 non-null    float64\n",
            " 6   forest_land     590 non-null    object \n",
            " 7   fishing_ground  590 non-null    float64\n",
            " 8   built_up_land   590 non-null    float64\n",
            " 9   carbon          590 non-null    float64\n",
            " 10  total           590 non-null    float64\n",
            " 11  QScore          590 non-null    object \n",
            "dtypes: float64(6), int64(2), object(4)\n",
            "memory usage: 59.9+ KB\n"
          ]
        }
      ]
    },
    {
      "cell_type": "code",
      "source": [
        "data_df = sklearn.utils.shuffle(data_df)\n",
        "data_df = data_df.reset_index(drop = True)\n",
        "print(data_df.shape)\n",
        "data_df.QScore.value_counts()"
      ],
      "metadata": {
        "colab": {
          "base_uri": "https://localhost:8080/"
        },
        "id": "R5dPkMkNsSQ3",
        "outputId": "b999a7df-6924-43d6-bbc2-e648bfcd0dc3"
      },
      "execution_count": 26,
      "outputs": [
        {
          "output_type": "stream",
          "name": "stdout",
          "text": [
            "(590, 12)\n"
          ]
        },
        {
          "output_type": "execute_result",
          "data": {
            "text/plain": [
              "3A    350\n",
              "2A    240\n",
              "Name: QScore, dtype: int64"
            ]
          },
          "metadata": {},
          "execution_count": 26
        }
      ]
    },
    {
      "cell_type": "code",
      "source": [
        "data_df = data_df.drop(columns = ['country_code', 'country', 'year'])"
      ],
      "metadata": {
        "id": "lx5otTLmtDcl"
      },
      "execution_count": 27,
      "outputs": []
    },
    {
      "cell_type": "code",
      "source": [
        "X = data_df.drop(columns = 'QScore')\n",
        "y = data_df['QScore']"
      ],
      "metadata": {
        "id": "bSLhCcTrteaa"
      },
      "execution_count": 28,
      "outputs": []
    },
    {
      "cell_type": "code",
      "source": [
        "# Now let us spit the data into training and testing set\n",
        "x_train, x_test, y_train, y_test = train_test_split(X, y, test_size = 0.3, random_state = 0)\n",
        "y_train.value_counts()"
      ],
      "metadata": {
        "colab": {
          "base_uri": "https://localhost:8080/"
        },
        "id": "imxbDMWzty0k",
        "outputId": "9477703b-83a5-4cb9-940b-24bb56f8203b"
      },
      "execution_count": 30,
      "outputs": [
        {
          "output_type": "execute_result",
          "data": {
            "text/plain": [
              "3A    242\n",
              "2A    171\n",
              "Name: QScore, dtype: int64"
            ]
          },
          "metadata": {},
          "execution_count": 30
        }
      ]
    },
    {
      "cell_type": "markdown",
      "source": [
        "We can see that there is still imbalance in the class distribution so we are going to use SMOTE only on the training data to handle this."
      ],
      "metadata": {
        "id": "rsqQMLjnueRS"
      }
    },
    {
      "cell_type": "code",
      "source": [
        "# We are going to encode the categorical variables\n",
        "encoder = LabelEncoder() \n",
        "x_train.record = encoder.fit_transform(x_train.record)\n",
        "x_test.record = encoder.fit_transform(x_test.record)\n"
      ],
      "metadata": {
        "id": "F-wPoqfxuyAI"
      },
      "execution_count": 32,
      "outputs": []
    },
    {
      "cell_type": "code",
      "source": [
        "smote = SMOTE(random_state = 1)\n",
        "x_train_balanced, y_balanced = smote.fit_resample(x_train, y_train)"
      ],
      "metadata": {
        "id": "q9PMhu-uvwiD"
      },
      "execution_count": 54,
      "outputs": []
    },
    {
      "cell_type": "code",
      "source": [
        "scaler = MinMaxScaler()\n",
        "normalised_train_df = scaler.fit_transform(x_train_balanced.drop(columns = 'record'))\n",
        "normalised_train_df = pd.DataFrame(normalised_train_df,\n",
        "columns=x_train_balanced.drop(columns=[ 'record' ]).columns) \n",
        "normalised_train_df[ 'record' ] = x_train_balanced[ 'record' ]"
      ],
      "metadata": {
        "id": "F4dJNy3bwfN3"
      },
      "execution_count": 47,
      "outputs": []
    },
    {
      "cell_type": "code",
      "source": [
        "x_test = x_test.reset_index(drop= True )\n",
        "normalised_test_df = scaler.transform(x_test.drop(columns=[ 'record' ]))\n",
        "normalised_test_df = pd.DataFrame(normalised_test_df,\n",
        "columns=x_test.drop(columns=[ 'record' ]).columns)\n",
        "normalised_test_df[ 'record' ] = x_test[ 'record']"
      ],
      "metadata": {
        "id": "EUR0yvliy2Qv"
      },
      "execution_count": 48,
      "outputs": []
    },
    {
      "cell_type": "code",
      "source": [
        "# Now we can use Logistic Regression\n",
        "log_reg = LogisticRegression()\n",
        "log_reg.fit(normalised_train_df, y_balanced)\n",
        "log_reg.predict(normalised_test_df)"
      ],
      "metadata": {
        "colab": {
          "base_uri": "https://localhost:8080/"
        },
        "id": "WMrdxtBbzEsD",
        "outputId": "3315966f-8e92-4ad1-e1a4-29ba0a2c81bf"
      },
      "execution_count": 49,
      "outputs": [
        {
          "output_type": "execute_result",
          "data": {
            "text/plain": [
              "array(['3A', '2A', '2A', '2A', '2A', '3A', '2A', '3A', '2A', '2A', '2A',\n",
              "       '2A', '3A', '2A', '3A', '2A', '2A', '3A', '2A', '3A', '2A', '2A',\n",
              "       '2A', '3A', '3A', '2A', '2A', '2A', '2A', '3A', '2A', '2A', '2A',\n",
              "       '2A', '2A', '2A', '2A', '2A', '3A', '3A', '3A', '2A', '2A', '2A',\n",
              "       '2A', '2A', '2A', '2A', '2A', '3A', '2A', '2A', '2A', '3A', '3A',\n",
              "       '2A', '2A', '2A', '2A', '3A', '3A', '2A', '2A', '3A', '2A', '3A',\n",
              "       '2A', '2A', '3A', '3A', '2A', '3A', '2A', '3A', '2A', '3A', '2A',\n",
              "       '2A', '3A', '3A', '2A', '2A', '2A', '2A', '3A', '2A', '3A', '3A',\n",
              "       '2A', '2A', '3A', '2A', '2A', '2A', '3A', '3A', '2A', '2A', '3A',\n",
              "       '3A', '2A', '2A', '3A', '3A', '3A', '2A', '2A', '3A', '2A', '2A',\n",
              "       '3A', '3A', '3A', '2A', '3A', '2A', '3A', '2A', '2A', '3A', '2A',\n",
              "       '3A', '3A', '2A', '2A', '2A', '2A', '2A', '3A', '2A', '2A', '3A',\n",
              "       '2A', '2A', '3A', '3A', '3A', '2A', '2A', '3A', '2A', '2A', '2A',\n",
              "       '3A', '2A', '2A', '3A', '2A', '2A', '3A', '3A', '3A', '2A', '3A',\n",
              "       '2A', '3A', '3A', '2A', '2A', '2A', '3A', '2A', '2A', '2A', '2A',\n",
              "       '3A', '3A', '3A', '3A', '3A', '2A', '2A', '3A', '3A', '2A', '2A',\n",
              "       '2A'], dtype=object)"
            ]
          },
          "metadata": {},
          "execution_count": 49
        }
      ]
    },
    {
      "cell_type": "markdown",
      "source": [
        "Measuring classification performance"
      ],
      "metadata": {
        "id": "RTQfCtc90k_t"
      }
    },
    {
      "cell_type": "code",
      "source": [
        "scores = cross_val_score(log_reg, normalised_train_df, y_balanced, cv= 5 , scoring= 'f1_macro' )\n",
        "scores "
      ],
      "metadata": {
        "colab": {
          "base_uri": "https://localhost:8080/"
        },
        "id": "OTYzvOc1z-cK",
        "outputId": "779ee5d5-2545-441d-b872-c0612ede2673"
      },
      "execution_count": 52,
      "outputs": [
        {
          "output_type": "execute_result",
          "data": {
            "text/plain": [
              "array([0.48183761, 0.48404255, 0.56325043, 0.56832736, 0.54811166])"
            ]
          },
          "metadata": {},
          "execution_count": 52
        }
      ]
    },
    {
      "cell_type": "code",
      "source": [
        "# K fold Cross Validation\n",
        "kf = KFold(n_splits= 5)\n",
        "kf.split(normalised_train_df)\n",
        "f1_scores = []\n",
        "\n",
        "# We are going to iterate through every split to get the f1_scores\n",
        "\n",
        "for train_index, test_index in kf.split(normalised_train_df): \n",
        "  x_train, x_test = normalised_train_df.iloc[train_index], normalised_train_df.iloc[test_index]\n",
        "  y_train, y_test = y_balanced[train_index], y_balanced[test_index] \n",
        "  model = LogisticRegression().fit(x_train, y_train)\n",
        "  f1_scores.append(f1_score(y_true=y_test, y_pred=model.predict(x_test), \n",
        "                            pos_label= '2A' )* 100 ) \n",
        "f1_scores"
      ],
      "metadata": {
        "colab": {
          "base_uri": "https://localhost:8080/"
        },
        "id": "Ii4WIgLh8on6",
        "outputId": "b880e094-f64f-4ac6-ece0-4d4cf5c53dda"
      },
      "execution_count": 58,
      "outputs": [
        {
          "output_type": "execute_result",
          "data": {
            "text/plain": [
              "[50.943396226415096, 48.42105263157895, 53.333333333333336, 54.0, 0.0]"
            ]
          },
          "metadata": {},
          "execution_count": 58
        }
      ]
    }
  ]
}