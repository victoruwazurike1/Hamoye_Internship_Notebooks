{
  "nbformat": 4,
  "nbformat_minor": 0,
  "metadata": {
    "colab": {
      "name": "Hamoye_Neural Network_Image Recognition_Object Detection_1.ipynb",
      "provenance": [],
      "authorship_tag": "ABX9TyO4Q+bcZRPiJ9GFpF4ZZZtq",
      "include_colab_link": true
    },
    "kernelspec": {
      "name": "python3",
      "display_name": "Python 3"
    },
    "language_info": {
      "name": "python"
    }
  },
  "cells": [
    {
      "cell_type": "markdown",
      "metadata": {
        "id": "view-in-github",
        "colab_type": "text"
      },
      "source": [
        "<a href=\"https://colab.research.google.com/github/victoruwazurike1/Hamoye_Internship_Notebooks/blob/main/Hamoye_Neural_Network_Image_Recognition_Object_Detection_1.ipynb\" target=\"_parent\"><img src=\"https://colab.research.google.com/assets/colab-badge.svg\" alt=\"Open In Colab\"/></a>"
      ]
    },
    {
      "cell_type": "code",
      "execution_count": 30,
      "metadata": {
        "id": "zzTsRT7jAKlO"
      },
      "outputs": [],
      "source": [
        "import tensorflow.compat.v1 as tf\n",
        "tf.disable_v2_behavior() "
      ]
    },
    {
      "cell_type": "code",
      "source": [
        "import numpy as np\n",
        "import matplotlib.pyplot as plt\n",
        "from tensorflow import keras\n",
        "from tensorflow.keras.layers import Dense, Dropout\n",
        "from tensorflow.keras.models import Sequential\n",
        "mnist = keras.datasets.mnist\n",
        "(train_images, train_labels), (test_images, test_labels) = mnist.load_data()"
      ],
      "metadata": {
        "id": "707m4cDqAadJ"
      },
      "execution_count": 31,
      "outputs": []
    },
    {
      "cell_type": "code",
      "source": [
        "print(f'Training data: {train_images.shape}, {train_labels.shape}')\n",
        "print(f'Training data: {test_images.shape}, {test_labels.shape}')\n",
        "class_labels = np.unique(train_labels)\n",
        "print(f'There are {len(class_labels)} classes in the dataset. They are {class_labels}')"
      ],
      "metadata": {
        "colab": {
          "base_uri": "https://localhost:8080/"
        },
        "id": "ddeVWhVBBCJF",
        "outputId": "f47afeb6-f179-4f0a-e09e-ab583f9891a7"
      },
      "execution_count": 32,
      "outputs": [
        {
          "output_type": "stream",
          "name": "stdout",
          "text": [
            "Training data: (60000, 28, 28), (60000,)\n",
            "Training data: (10000, 28, 28), (10000,)\n",
            "There are 10 classes in the dataset. They are [0 1 2 3 4 5 6 7 8 9]\n"
          ]
        }
      ]
    },
    {
      "cell_type": "code",
      "source": [
        "print(train_images.shape[0])\n",
        "print(train_images.shape[1])\n",
        "print(train_images.shape[2])\n",
        "print(train_images.shape)"
      ],
      "metadata": {
        "colab": {
          "base_uri": "https://localhost:8080/"
        },
        "id": "4V8s3T31IaPL",
        "outputId": "f5a3bb46-77be-4977-f540-d52e6698b58a"
      },
      "execution_count": 33,
      "outputs": [
        {
          "output_type": "stream",
          "name": "stdout",
          "text": [
            "60000\n",
            "28\n",
            "28\n",
            "(60000, 28, 28)\n"
          ]
        }
      ]
    },
    {
      "cell_type": "code",
      "source": [
        "# Let us visualize the images\n",
        "plt.figure(figsize=(9, 6))\n",
        "\n",
        "plt.subplot(1, 3, 1)\n",
        "plt.imshow(train_images[0])\n",
        "plt.title(f'Label: {train_labels[0]}')\n",
        "\n",
        "plt.subplot(1, 3, 2)\n",
        "plt.imshow(train_images[2500])\n",
        "plt.title(f'Label: {train_labels[2500]}')\n",
        "\n",
        "plt.subplot(1, 3, 3)\n",
        "plt.imshow(test_images[12])\n",
        "plt.title(f'Label: {test_labels[12]}')\n",
        "\n",
        "plt.show()"
      ],
      "metadata": {
        "colab": {
          "base_uri": "https://localhost:8080/",
          "height": 212
        },
        "id": "0FVwB8_8CmYs",
        "outputId": "a05c003f-cf38-4f30-8388-ebaa7a7fa9af"
      },
      "execution_count": 34,
      "outputs": [
        {
          "output_type": "display_data",
          "data": {
            "text/plain": [
              "<Figure size 648x432 with 3 Axes>"
            ],
            "image/png": "[encoded data removed]"
          },
          "metadata": {
            "needs_background": "light"
          }
        }
      ]
    },
    {
      "cell_type": "code",
      "source": [
        "# Now we are going to scale the data so it will be within the range of 0 and 1\n",
        "# Dividing the data by 255 is going to help us achieve this \n",
        "train_images = train_images / 255\n",
        "test_images = test_images / 255"
      ],
      "metadata": {
        "id": "WVkdq7QmEjtR"
      },
      "execution_count": 35,
      "outputs": []
    },
    {
      "cell_type": "code",
      "source": [
        "train_images.shape"
      ],
      "metadata": {
        "colab": {
          "base_uri": "https://localhost:8080/"
        },
        "id": "j-6I8Ju-IxaV",
        "outputId": "a89c8ae0-d790-491d-cb92-99c201d915cd"
      },
      "execution_count": 36,
      "outputs": [
        {
          "output_type": "execute_result",
          "data": {
            "text/plain": [
              "(60000, 28, 28)"
            ]
          },
          "metadata": {},
          "execution_count": 36
        }
      ]
    },
    {
      "cell_type": "code",
      "source": [
        "plt.figure(figsize=(9, 6))\n",
        "\n",
        "plt.subplot(1, 3, 1)\n",
        "plt.imshow(train_images[0])\n",
        "plt.title(f'Label: {train_labels[0]}')\n",
        "\n",
        "plt.subplot(1, 3, 2)\n",
        "plt.imshow(train_images[2500])\n",
        "plt.title(f'Label: {train_labels[2500]}')\n",
        "\n",
        "plt.subplot(1, 3, 3)\n",
        "plt.imshow(test_images[12])\n",
        "plt.title(f'Label: {test_labels[12]}')\n",
        "\n",
        "plt.show()"
      ],
      "metadata": {
        "colab": {
          "base_uri": "https://localhost:8080/",
          "height": 212
        },
        "id": "Sy5-3vxIIL_R",
        "outputId": "6ef87049-c420-44ed-905b-02906a642494"
      },
      "execution_count": 37,
      "outputs": [
        {
          "output_type": "display_data",
          "data": {
            "text/plain": [
              "<Figure size 648x432 with 3 Axes>"
            ],
            "image/png": "[encoded data removed]"
          },
          "metadata": {
            "needs_background": "light"
          }
        }
      ]
    },
    {
      "cell_type": "code",
      "source": [
        "# We are going to split the training set into training and validation set\n",
        "x_train = train_images[0:50000]\n",
        "x_val = train_images[50000:]\n",
        "y_train = train_labels[0:50000]\n",
        "y_val = train_labels[50000:]\n",
        "\n",
        "print(f'x_train shape: {x_train.shape}') # prints x_train: (50000, 28, 28)\n",
        "print(f'x_val shape: {x_val.shape}') # prints x_val: (10000, 28, 28)\n",
        "print(f'y_train shape: {y_train.shape}') #prints y_train: (50000,)\n",
        "print(f'y_val shape: {y_val.shape}') #prints y_val: (10000,)"
      ],
      "metadata": {
        "colab": {
          "base_uri": "https://localhost:8080/"
        },
        "id": "bhiedeQZFF7s",
        "outputId": "74365e6e-3726-41a2-c785-d67b8cc1d587"
      },
      "execution_count": 38,
      "outputs": [
        {
          "output_type": "stream",
          "name": "stdout",
          "text": [
            "x_train shape: (50000, 28, 28)\n",
            "x_val shape: (10000, 28, 28)\n",
            "y_train shape: (50000,)\n",
            "y_val shape: (10000,)\n"
          ]
        }
      ]
    },
    {
      "cell_type": "code",
      "source": [
        "print(train_images.shape[1:])"
      ],
      "metadata": {
        "colab": {
          "base_uri": "https://localhost:8080/"
        },
        "id": "nLhIuF5GKn7v",
        "outputId": "7148e1eb-3de6-43f1-af72-dbd291605cf0"
      },
      "execution_count": 39,
      "outputs": [
        {
          "output_type": "stream",
          "name": "stdout",
          "text": [
            "(28, 28)\n"
          ]
        }
      ]
    },
    {
      "cell_type": "code",
      "source": [
        "new_dimension = np.prod(train_images.shape[1:])\n",
        "x_train = x_train.reshape(x_train.shape[0], new_dimension)\n",
        "x_val = x_val.reshape(x_val.shape[0], new_dimension)\n",
        "test_images = test_images.reshape(test_images.shape[0], new_dimension)\n",
        "\n",
        "print(\"x_train: {}\".format(x_train.shape)) #prints x_train: (50000, 784)\n",
        "print(\"x_val: {}\".format(x_val.shape)) #prints x_val: (10000, 784)\n",
        "print(\"test_images: {}\".format(test_images.shape)) #prints test_images: (10000, 784)"
      ],
      "metadata": {
        "colab": {
          "base_uri": "https://localhost:8080/"
        },
        "id": "K3Wsf3XlHNEr",
        "outputId": "004d038c-4e33-438e-af85-4227ef834b4a"
      },
      "execution_count": 40,
      "outputs": [
        {
          "output_type": "stream",
          "name": "stdout",
          "text": [
            "x_train: (50000, 784)\n",
            "x_val: (10000, 784)\n",
            "test_images: (10000, 784)\n"
          ]
        }
      ]
    },
    {
      "cell_type": "code",
      "source": [
        "# Let us encode labels to categorical variables\n",
        "from tensorflow.keras.utils import to_categorical\n",
        "no_labels = 10\n",
        "y_train = to_categorical(y_train, no_labels)\n",
        "y_val = to_categorical(y_val, no_labels)\n",
        "y_test = to_categorical(test_labels, no_labels)"
      ],
      "metadata": {
        "id": "FMFdH9JkK43w"
      },
      "execution_count": 41,
      "outputs": []
    },
    {
      "cell_type": "code",
      "source": [
        "# Let us setup the hyprparameters\n",
        "X = tf.placeholder(tf.float32, [None,new_dimension])\n",
        "y = tf.placeholder(tf.float32, [None, no_labels])\n",
        "\n",
        "# Now we will create the model architecture\n",
        "def multilayer_perceptron(x, no_classes, first_layer_neurons = 256, second_layer_neurons = 128):\n",
        "  # first layer\n",
        "  first_weight = tf.Variable(tf.random_uniform([new_dimension ,first_layer_neurons]))\n",
        "  first_bias = tf.Variable(tf.zeros([first_layer_neurons]))\n",
        "  first_layer_output = tf.nn.relu(tf.add(tf.matmul(x, first_weight), first_bias))\n",
        "\n",
        "  # second layer\n",
        "  second_weight = tf.Variable(tf.random_uniform([first_layer_neurons,second_layer_neurons]))\n",
        "  second_bias = tf.Variable(tf.zeros([second_layer_neurons]))\n",
        "  second_layer_output = tf.nn.relu(tf.add(tf.matmul(first_layer_output, second_weight), second_bias))\n",
        "\n",
        "  # output layer\n",
        "  final_weight = tf.Variable(tf.random_uniform([second_layer_neurons, no_classes]))\n",
        "  final_bias = tf.Variable(tf.zeros([no_classes]))\n",
        "  logits = tf.add(tf.matmul(second_layer_output, final_weight), final_bias)\n",
        "  \n",
        "  return logits"
      ],
      "metadata": {
        "id": "YHIeuxHDLvBR"
      },
      "execution_count": 42,
      "outputs": []
    },
    {
      "cell_type": "code",
      "source": [
        "logits = multilayer_perceptron(X, no_labels)\n",
        "learning_rate = 0.01\n",
        "#we define the loss and optimiser for the network\n",
        "loss_op = tf.reduce_mean(tf.nn.softmax_cross_entropy_with_logits(logits=logits, labels=y))\n",
        "optimiser = tf.train.AdamOptimizer(learning_rate=learning_rate)\n",
        "train_op = optimiser.minimize(loss_op)\n",
        "\n",
        "init = tf.global_variables_initializer()\n",
        "epochs = 20\n",
        "batch_size = 1000\n",
        "iteration = len(x_train) // batch_size"
      ],
      "metadata": {
        "id": "fgTJf4abO7yq"
      },
      "execution_count": 43,
      "outputs": []
    },
    {
      "cell_type": "code",
      "source": [
        "#train model\n",
        "with tf.Session() as session:\n",
        " session.run(init)\n",
        " for epoch in range(epochs):\n",
        "   average_cost = 0\n",
        "   start, end = 0, batch_size\n",
        "   \n",
        "   for i in range(iteration):\n",
        "     batch_x, batch_y = x_train[start: end], y_train[start: end]\n",
        "     _, loss = session.run([train_op, loss_op], feed_dict={X: batch_x, y: batch_y})\n",
        "     start += batch_size\n",
        "     end += batch_size\n",
        "     #average loss\n",
        "     average_cost += loss/iteration\n",
        "   print(\"Epoch========{}\".format(epoch))\n",
        "\n",
        " #evaluate model\n",
        " prediction = tf.nn.softmax(logits)\n",
        " ground_truth = tf.equal(tf.argmax(prediction, 1), tf.argmax(y, 1))\n",
        " accuracy = tf.reduce_mean(tf.cast(ground_truth, \"float\"))\n",
        " print(\"Accuracy: {}\".format(accuracy.eval({X: test_images, y: y_test})))"
      ],
      "metadata": {
        "colab": {
          "base_uri": "https://localhost:8080/"
        },
        "id": "m2Wm6Y-YPP6Z",
        "outputId": "edb8627b-3cd9-4344-aaf0-cb56e4229321"
      },
      "execution_count": 44,
      "outputs": [
        {
          "output_type": "stream",
          "name": "stdout",
          "text": [
            "Epoch========0\n",
            "Epoch========1\n",
            "Epoch========2\n",
            "Epoch========3\n",
            "Epoch========4\n",
            "Epoch========5\n",
            "Epoch========6\n",
            "Epoch========7\n",
            "Epoch========8\n",
            "Epoch========9\n",
            "Epoch========10\n",
            "Epoch========11\n",
            "Epoch========12\n",
            "Epoch========13\n",
            "Epoch========14\n",
            "Epoch========15\n",
            "Epoch========16\n",
            "Epoch========17\n",
            "Epoch========18\n",
            "Epoch========19\n",
            "Accuracy: 0.8765000104904175\n"
          ]
        }
      ]
    },
    {
      "cell_type": "code",
      "source": [
        "# Building a Sequential Feed Forward network in keras\n",
        "model = Sequential()\n",
        "model.add(Dense(256, activation = 'relu', input_shape = (new_dimension, )))\n",
        "model.add(Dense(128, activation='relu'))\n",
        "model.add(Dense(no_labels, activation ='softmax'))\n",
        "\n",
        "model.compile(optimizer = 'adam', loss = tf.keras.losses.categorical_crossentropy,\n",
        "              metrics = ['accuracy'])\n",
        "history = model.fit(x_train, y_train, validation_data = (x_val, y_val), epochs=20, batch_size= 1000)\n",
        "test_loss, test_accuracy = model.evaluate(test_images, y_test)\n",
        "print(f'Test loss: {test_loss}')\n",
        "print(f'Test accuracy: {test_accuracy}')\n"
      ],
      "metadata": {
        "colab": {
          "base_uri": "https://localhost:8080/"
        },
        "id": "cRMy20qv9xAv",
        "outputId": "c4bd23be-b615-4056-b323-628b2d162c05"
      },
      "execution_count": 45,
      "outputs": [
        {
          "output_type": "stream",
          "name": "stdout",
          "text": [
            "Train on 50000 samples, validate on 10000 samples\n",
            "Epoch 1/20\n",
            "48000/50000 [===========================>..] - ETA: 0s - loss: 0.6968 - acc: 0.8065"
          ]
        },
        {
          "output_type": "stream",
          "name": "stderr",
          "text": [
            "/usr/local/lib/python3.7/dist-packages/keras/engine/training_v1.py:2057: UserWarning: `Model.state_updates` will be removed in a future version. This property should not be used in TensorFlow 2.0, as `updates` are applied automatically.\n",
            "  updates = self.state_updates\n"
          ]
        },
        {
          "output_type": "stream",
          "name": "stdout",
          "text": [
            "\b\b\b\b\b\b\b\b\b\b\b\b\b\b\b\b\b\b\b\b\b\b\b\b\b\b\b\b\b\b\b\b\b\b\b\b\b\b\b\b\b\b\b\b\b\b\b\b\b\b\b\b\b\b\b\b\b\b\b\b\b\b\b\b\b\b\b\b\b\b\b\b\b\b\b\b\b\b\b\b\b\b\b\r50000/50000 [==============================] - 1s 29us/sample - loss: 0.6812 - acc: 0.8108 - val_loss: 0.2619 - val_acc: 0.9246\n",
            "Epoch 2/20\n",
            "50000/50000 [==============================] - 1s 26us/sample - loss: 0.2399 - acc: 0.9316 - val_loss: 0.1919 - val_acc: 0.9462\n",
            "Epoch 3/20\n",
            "50000/50000 [==============================] - 1s 26us/sample - loss: 0.1757 - acc: 0.9498 - val_loss: 0.1496 - val_acc: 0.9590\n",
            "Epoch 4/20\n",
            "50000/50000 [==============================] - 1s 26us/sample - loss: 0.1370 - acc: 0.9599 - val_loss: 0.1317 - val_acc: 0.9637\n",
            "Epoch 5/20\n",
            "50000/50000 [==============================] - 1s 26us/sample - loss: 0.1098 - acc: 0.9687 - val_loss: 0.1107 - val_acc: 0.9683\n",
            "Epoch 6/20\n",
            "50000/50000 [==============================] - 1s 27us/sample - loss: 0.0900 - acc: 0.9747 - val_loss: 0.1004 - val_acc: 0.9715\n",
            "Epoch 7/20\n",
            "50000/50000 [==============================] - 1s 26us/sample - loss: 0.0763 - acc: 0.9783 - val_loss: 0.0953 - val_acc: 0.9726\n",
            "Epoch 8/20\n",
            "50000/50000 [==============================] - 1s 26us/sample - loss: 0.0651 - acc: 0.9817 - val_loss: 0.0906 - val_acc: 0.9738\n",
            "Epoch 9/20\n",
            "50000/50000 [==============================] - 1s 26us/sample - loss: 0.0549 - acc: 0.9845 - val_loss: 0.0854 - val_acc: 0.9746\n",
            "Epoch 10/20\n",
            "50000/50000 [==============================] - 1s 26us/sample - loss: 0.0482 - acc: 0.9864 - val_loss: 0.0842 - val_acc: 0.9762\n",
            "Epoch 11/20\n",
            "50000/50000 [==============================] - 1s 26us/sample - loss: 0.0406 - acc: 0.9892 - val_loss: 0.0827 - val_acc: 0.9757\n",
            "Epoch 12/20\n",
            "50000/50000 [==============================] - 1s 27us/sample - loss: 0.0354 - acc: 0.9907 - val_loss: 0.0822 - val_acc: 0.9765\n",
            "Epoch 13/20\n",
            "50000/50000 [==============================] - 1s 27us/sample - loss: 0.0312 - acc: 0.9922 - val_loss: 0.0861 - val_acc: 0.9752\n",
            "Epoch 14/20\n",
            "50000/50000 [==============================] - 1s 26us/sample - loss: 0.0283 - acc: 0.9928 - val_loss: 0.0794 - val_acc: 0.9771\n",
            "Epoch 15/20\n",
            "50000/50000 [==============================] - 1s 27us/sample - loss: 0.0225 - acc: 0.9948 - val_loss: 0.0768 - val_acc: 0.9783\n",
            "Epoch 16/20\n",
            "50000/50000 [==============================] - 1s 27us/sample - loss: 0.0195 - acc: 0.9958 - val_loss: 0.0826 - val_acc: 0.9765\n",
            "Epoch 17/20\n",
            "50000/50000 [==============================] - 1s 27us/sample - loss: 0.0172 - acc: 0.9968 - val_loss: 0.0804 - val_acc: 0.9770\n",
            "Epoch 18/20\n",
            "50000/50000 [==============================] - 1s 26us/sample - loss: 0.0146 - acc: 0.9972 - val_loss: 0.0795 - val_acc: 0.9777\n",
            "Epoch 19/20\n",
            "50000/50000 [==============================] - 1s 27us/sample - loss: 0.0118 - acc: 0.9981 - val_loss: 0.0806 - val_acc: 0.9783\n",
            "Epoch 20/20\n",
            "50000/50000 [==============================] - 1s 26us/sample - loss: 0.0108 - acc: 0.9983 - val_loss: 0.0812 - val_acc: 0.9769\n",
            "Test loss: 0.07272273915346596\n",
            "Test accuracy: 0.9789000153541565\n"
          ]
        }
      ]
    },
    {
      "cell_type": "code",
      "source": [
        "# Let us visualize the result \n",
        "plt.figure()\n",
        "plt.plot(history.history['loss'], 'blue')\n",
        "plt.plot(history.history['val_loss'], 'red')\n",
        "plt.legend(['Training loss', 'Validation loss'])\n",
        "plt.xlabel('Epochs')\n",
        "plt.ylabel('Loss')\n",
        "plt.title('Loss curves before Regularization')"
      ],
      "metadata": {
        "colab": {
          "base_uri": "https://localhost:8080/",
          "height": 313
        },
        "id": "3OfWBjT-ACjm",
        "outputId": "73bc10ec-ca0f-4be9-f160-7b47d91d7bc8"
      },
      "execution_count": 46,
      "outputs": [
        {
          "output_type": "execute_result",
          "data": {
            "text/plain": [
              "Text(0.5, 1.0, 'Loss curves before Regularization')"
            ]
          },
          "metadata": {},
          "execution_count": 46
        },
        {
          "output_type": "display_data",
          "data": {
            "text/plain": [
              "<Figure size 432x288 with 1 Axes>"
            ],
            "image/png": "[encoded data removed]"
          },
          "metadata": {
            "needs_background": "light"
          }
        }
      ]
    },
    {
      "cell_type": "code",
      "source": [
        "# Now we are going to introduce regularization and see how it goes this time around\n",
        "reg_model = Sequential()\n",
        "reg_model.add(Dense(256, activation = 'relu', input_shape = (new_dimension, )))\n",
        "reg_model.add(Dropout(0.4))\n",
        "reg_model.add(Dense(128, activation='relu'))\n",
        "reg_model.add(Dropout(0.4))\n",
        "reg_model.add(Dense(no_labels, activation ='softmax'))\n",
        "\n",
        "reg_model.compile(optimizer = 'adam', loss = tf.keras.losses.categorical_crossentropy,\n",
        "              metrics = ['accuracy'])\n",
        "reg_history = reg_model.fit(x_train, y_train, validation_data = (x_val, y_val), epochs=20, batch_size= 1000)\n",
        "test_loss, test_accuracy = reg_model.evaluate(test_images, y_test)\n",
        "print(f'Test loss: {test_loss}')\n",
        "print(f'Test accuracy: {test_accuracy}')\n"
      ],
      "metadata": {
        "colab": {
          "base_uri": "https://localhost:8080/"
        },
        "id": "9gM33RluBHnP",
        "outputId": "b2595ec6-0458-4c59-ab87-d091c16e5e3b"
      },
      "execution_count": 47,
      "outputs": [
        {
          "output_type": "stream",
          "name": "stdout",
          "text": [
            "Train on 50000 samples, validate on 10000 samples\n",
            "Epoch 1/20\n",
            "49000/50000 [============================>.] - ETA: 0s - loss: 0.9810 - acc: 0.6865"
          ]
        },
        {
          "output_type": "stream",
          "name": "stderr",
          "text": [
            "/usr/local/lib/python3.7/dist-packages/keras/engine/training_v1.py:2057: UserWarning: `Model.state_updates` will be removed in a future version. This property should not be used in TensorFlow 2.0, as `updates` are applied automatically.\n",
            "  updates = self.state_updates\n"
          ]
        },
        {
          "output_type": "stream",
          "name": "stdout",
          "text": [
            "\b\b\b\b\b\b\b\b\b\b\b\b\b\b\b\b\b\b\b\b\b\b\b\b\b\b\b\b\b\b\b\b\b\b\b\b\b\b\b\b\b\b\b\b\b\b\b\b\b\b\b\b\b\b\b\b\b\b\b\b\b\b\b\b\b\b\b\b\b\b\b\b\b\b\b\b\b\b\b\b\b\b\b\r50000/50000 [==============================] - 2s 37us/sample - loss: 0.9711 - acc: 0.6895 - val_loss: 0.2927 - val_acc: 0.9192\n",
            "Epoch 2/20\n",
            "50000/50000 [==============================] - 2s 33us/sample - loss: 0.3791 - acc: 0.8883 - val_loss: 0.2008 - val_acc: 0.9444\n",
            "Epoch 3/20\n",
            "50000/50000 [==============================] - 2s 33us/sample - loss: 0.2839 - acc: 0.9164 - val_loss: 0.1618 - val_acc: 0.9534\n",
            "Epoch 4/20\n",
            "50000/50000 [==============================] - 2s 32us/sample - loss: 0.2341 - acc: 0.9318 - val_loss: 0.1386 - val_acc: 0.9595\n",
            "Epoch 5/20\n",
            "50000/50000 [==============================] - 2s 32us/sample - loss: 0.2010 - acc: 0.9408 - val_loss: 0.1243 - val_acc: 0.9638\n",
            "Epoch 6/20\n",
            "50000/50000 [==============================] - 2s 32us/sample - loss: 0.1746 - acc: 0.9494 - val_loss: 0.1106 - val_acc: 0.9680\n",
            "Epoch 7/20\n",
            "50000/50000 [==============================] - 2s 32us/sample - loss: 0.1592 - acc: 0.9532 - val_loss: 0.1040 - val_acc: 0.9703\n",
            "Epoch 8/20\n",
            "50000/50000 [==============================] - 2s 32us/sample - loss: 0.1435 - acc: 0.9569 - val_loss: 0.0965 - val_acc: 0.9728\n",
            "Epoch 9/20\n",
            "50000/50000 [==============================] - 2s 32us/sample - loss: 0.1301 - acc: 0.9606 - val_loss: 0.0910 - val_acc: 0.9744\n",
            "Epoch 10/20\n",
            "50000/50000 [==============================] - 2s 32us/sample - loss: 0.1215 - acc: 0.9651 - val_loss: 0.0865 - val_acc: 0.9743\n",
            "Epoch 11/20\n",
            "50000/50000 [==============================] - 2s 32us/sample - loss: 0.1106 - acc: 0.9661 - val_loss: 0.0838 - val_acc: 0.9759\n",
            "Epoch 12/20\n",
            "50000/50000 [==============================] - 2s 34us/sample - loss: 0.1033 - acc: 0.9694 - val_loss: 0.0797 - val_acc: 0.9773\n",
            "Epoch 13/20\n",
            "50000/50000 [==============================] - 2s 31us/sample - loss: 0.0974 - acc: 0.9702 - val_loss: 0.0803 - val_acc: 0.9759\n",
            "Epoch 14/20\n",
            "50000/50000 [==============================] - 2s 32us/sample - loss: 0.0938 - acc: 0.9717 - val_loss: 0.0789 - val_acc: 0.9770\n",
            "Epoch 15/20\n",
            "50000/50000 [==============================] - 2s 32us/sample - loss: 0.0877 - acc: 0.9733 - val_loss: 0.0789 - val_acc: 0.9776\n",
            "Epoch 16/20\n",
            "50000/50000 [==============================] - 2s 32us/sample - loss: 0.0818 - acc: 0.9753 - val_loss: 0.0771 - val_acc: 0.9778\n",
            "Epoch 17/20\n",
            "50000/50000 [==============================] - 2s 32us/sample - loss: 0.0775 - acc: 0.9764 - val_loss: 0.0763 - val_acc: 0.9783\n",
            "Epoch 18/20\n",
            "50000/50000 [==============================] - 2s 32us/sample - loss: 0.0750 - acc: 0.9773 - val_loss: 0.0735 - val_acc: 0.9786\n",
            "Epoch 19/20\n",
            "50000/50000 [==============================] - 2s 33us/sample - loss: 0.0697 - acc: 0.9789 - val_loss: 0.0717 - val_acc: 0.9803\n",
            "Epoch 20/20\n",
            "50000/50000 [==============================] - 2s 32us/sample - loss: 0.0663 - acc: 0.9794 - val_loss: 0.0703 - val_acc: 0.9802\n",
            "Test loss: 0.06914488211338175\n",
            "Test accuracy: 0.9786999821662903\n"
          ]
        }
      ]
    },
    {
      "cell_type": "code",
      "source": [
        "# Let us visualize the result to see the difference\n",
        "plt.figure()\n",
        "plt.plot(reg_history.history['loss'], 'blue')\n",
        "plt.plot(reg_history.history['val_loss'], 'red')\n",
        "plt.legend(['Training loss', 'Validation loss'])\n",
        "plt.xlabel('Epochs')\n",
        "plt.ylabel('Loss')\n",
        "plt.title('Loss curves after Regularization')"
      ],
      "metadata": {
        "colab": {
          "base_uri": "https://localhost:8080/",
          "height": 313
        },
        "id": "iHd1nY0ZCIll",
        "outputId": "fcb44f76-2a14-4378-aeb6-975d05580b21"
      },
      "execution_count": 48,
      "outputs": [
        {
          "output_type": "execute_result",
          "data": {
            "text/plain": [
              "Text(0.5, 1.0, 'Loss curves after Regularization')"
            ]
          },
          "metadata": {},
          "execution_count": 48
        },
        {
          "output_type": "display_data",
          "data": {
            "text/plain": [
              "<Figure size 432x288 with 1 Axes>"
            ],
            "image/png": "[encoded data removed]"
          },
          "metadata": {
            "needs_background": "light"
          }
        }
      ]
    }
  ]
}