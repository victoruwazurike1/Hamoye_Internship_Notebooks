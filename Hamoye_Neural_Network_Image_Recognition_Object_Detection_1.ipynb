{
  "nbformat": 4,
  "nbformat_minor": 0,
  "metadata": {
    "colab": {
      "name": "Hamoye_Neural Network_Image Recognition_Object Detection_1.ipynb",
      "provenance": [],
      "authorship_tag": "ABX9TyP52twhpgd9zPRbMtIWj3zW",
      "include_colab_link": true
    },
    "kernelspec": {
      "name": "python3",
      "display_name": "Python 3"
    },
    "language_info": {
      "name": "python"
    }
  },
  "cells": [
    {
      "cell_type": "markdown",
      "metadata": {
        "id": "view-in-github",
        "colab_type": "text"
      },
      "source": [
        "<a href=\"https://colab.research.google.com/github/victoruwazurike1/Hamoye_Internship_Notebooks/blob/main/Hamoye_Neural_Network_Image_Recognition_Object_Detection_1.ipynb\" target=\"_parent\"><img src=\"https://colab.research.google.com/assets/colab-badge.svg\" alt=\"Open In Colab\"/></a>"
      ]
    },
    {
      "cell_type": "code",
      "execution_count": 21,
      "metadata": {
        "id": "zzTsRT7jAKlO"
      },
      "outputs": [],
      "source": [
        "import tensorflow.compat.v1 as tf\n",
        "tf.disable_v2_behavior() "
      ]
    },
    {
      "cell_type": "code",
      "source": [
        "import numpy as np\n",
        "import matplotlib.pyplot as plt\n",
        "from tensorflow import keras\n",
        "mnist = keras.datasets.mnist\n",
        "(train_images, train_labels), (test_images, test_labels) = mnist.load_data()"
      ],
      "metadata": {
        "id": "707m4cDqAadJ"
      },
      "execution_count": 22,
      "outputs": []
    },
    {
      "cell_type": "code",
      "source": [
        "print(f'Training data: {train_images.shape}, {train_labels.shape}')\n",
        "print(f'Training data: {test_images.shape}, {test_labels.shape}')\n",
        "class_labels = np.unique(train_labels)\n",
        "print(f'There are {len(class_labels)} classes in the dataset. They are {class_labels}')"
      ],
      "metadata": {
        "colab": {
          "base_uri": "https://localhost:8080/"
        },
        "id": "ddeVWhVBBCJF",
        "outputId": "1f70b134-d967-4e30-ab0a-2f406f07ce49"
      },
      "execution_count": 23,
      "outputs": [
        {
          "output_type": "stream",
          "name": "stdout",
          "text": [
            "Training data: (60000, 28, 28), (60000,)\n",
            "Training data: (10000, 28, 28), (10000,)\n",
            "There are 10 classes in the dataset. They are [0 1 2 3 4 5 6 7 8 9]\n"
          ]
        }
      ]
    },
    {
      "cell_type": "code",
      "source": [
        "print(train_images.shape[0])\n",
        "print(train_images.shape[1])\n",
        "print(train_images.shape[2])\n",
        "print(train_images.shape)"
      ],
      "metadata": {
        "colab": {
          "base_uri": "https://localhost:8080/"
        },
        "id": "4V8s3T31IaPL",
        "outputId": "03203742-8a51-479b-fb2c-52b0150cda60"
      },
      "execution_count": 26,
      "outputs": [
        {
          "output_type": "stream",
          "name": "stdout",
          "text": [
            "60000\n",
            "28\n",
            "28\n",
            "(60000, 28, 28)\n"
          ]
        }
      ]
    },
    {
      "cell_type": "code",
      "source": [
        "# Let us visualize the images\n",
        "plt.figure(figsize=(9, 6))\n",
        "\n",
        "plt.subplot(1, 3, 1)\n",
        "plt.imshow(train_images[0])\n",
        "plt.title(f'Label: {train_labels[0]}')\n",
        "\n",
        "plt.subplot(1, 3, 2)\n",
        "plt.imshow(train_images[2500])\n",
        "plt.title(f'Label: {train_labels[2500]}')\n",
        "\n",
        "plt.subplot(1, 3, 3)\n",
        "plt.imshow(test_images[12])\n",
        "plt.title(f'Label: {test_labels[12]}')\n",
        "\n",
        "plt.show()"
      ],
      "metadata": {
        "colab": {
          "base_uri": "https://localhost:8080/",
          "height": 212
        },
        "id": "0FVwB8_8CmYs",
        "outputId": "1bdf245d-ce3d-4b85-f3e5-4f97ecae1f8f"
      },
      "execution_count": 27,
      "outputs": [
        {
          "output_type": "display_data",
          "data": {
            "text/plain": [
              "<Figure size 648x432 with 3 Axes>"
            ],
            "image/png": "[encoded data removed]"
          },
          "metadata": {
            "needs_background": "light"
          }
        }
      ]
    },
    {
      "cell_type": "code",
      "source": [
        "# Now we are going to scale the data so it will be within the range of 0 and 1\n",
        "# Dividing the data by 255 is going to help us achieve this \n",
        "train_images = train_images / 255\n",
        "test_images = test_images / 255"
      ],
      "metadata": {
        "id": "WVkdq7QmEjtR"
      },
      "execution_count": 28,
      "outputs": []
    },
    {
      "cell_type": "code",
      "source": [
        "train_images.shape"
      ],
      "metadata": {
        "colab": {
          "base_uri": "https://localhost:8080/"
        },
        "id": "j-6I8Ju-IxaV",
        "outputId": "c1ff2cc2-0784-4a38-c09c-106889192100"
      },
      "execution_count": 30,
      "outputs": [
        {
          "output_type": "execute_result",
          "data": {
            "text/plain": [
              "(60000, 28, 28)"
            ]
          },
          "metadata": {},
          "execution_count": 30
        }
      ]
    },
    {
      "cell_type": "code",
      "source": [
        "plt.figure(figsize=(9, 6))\n",
        "\n",
        "plt.subplot(1, 3, 1)\n",
        "plt.imshow(train_images[0])\n",
        "plt.title(f'Label: {train_labels[0]}')\n",
        "\n",
        "plt.subplot(1, 3, 2)\n",
        "plt.imshow(train_images[2500])\n",
        "plt.title(f'Label: {train_labels[2500]}')\n",
        "\n",
        "plt.subplot(1, 3, 3)\n",
        "plt.imshow(test_images[12])\n",
        "plt.title(f'Label: {test_labels[12]}')\n",
        "\n",
        "plt.show()"
      ],
      "metadata": {
        "colab": {
          "base_uri": "https://localhost:8080/",
          "height": 212
        },
        "id": "Sy5-3vxIIL_R",
        "outputId": "47200179-eb7e-4976-e51c-91e8c9c68b99"
      },
      "execution_count": 31,
      "outputs": [
        {
          "output_type": "display_data",
          "data": {
            "text/plain": [
              "<Figure size 648x432 with 3 Axes>"
            ],
            "image/png": "[encoded data removed]"
          },
          "metadata": {
            "needs_background": "light"
          }
        }
      ]
    },
    {
      "cell_type": "code",
      "source": [
        "# We are going to split the training set into training and validation set\n",
        "x_train = train_images[0:50000]\n",
        "x_val = train_images[50000:]\n",
        "y_train = train_labels[0:50000]\n",
        "y_val = train_labels[50000:]\n",
        "\n",
        "print(f'x_train shape: {x_train.shape}') # prints x_train: (50000, 28, 28)\n",
        "print(f'x_val shape: {x_val.shape}') # prints x_val: (10000, 28, 28)\n",
        "print(f'y_train shape: {y_train.shape}') #prints y_train: (50000,)\n",
        "print(f'y_val shape: {y_val.shape}') #prints y_val: (10000,)"
      ],
      "metadata": {
        "colab": {
          "base_uri": "https://localhost:8080/"
        },
        "id": "bhiedeQZFF7s",
        "outputId": "0473b340-837d-481b-e2b6-209696068647"
      },
      "execution_count": 32,
      "outputs": [
        {
          "output_type": "stream",
          "name": "stdout",
          "text": [
            "x_train shape: (50000, 28, 28)\n",
            "x_val shape: (10000, 28, 28)\n",
            "y_train shape: (50000,)\n",
            "y_val shape: (10000,)\n"
          ]
        }
      ]
    },
    {
      "cell_type": "code",
      "source": [
        "print(train_images.shape[1:])"
      ],
      "metadata": {
        "colab": {
          "base_uri": "https://localhost:8080/"
        },
        "id": "nLhIuF5GKn7v",
        "outputId": "1b0b4a83-6f55-4b69-bfcc-de68b2443806"
      },
      "execution_count": 34,
      "outputs": [
        {
          "output_type": "stream",
          "name": "stdout",
          "text": [
            "(28, 28)\n"
          ]
        }
      ]
    },
    {
      "cell_type": "code",
      "source": [
        "new_dimension = np.prod(train_images.shape[1:])\n",
        "x_train = x_train.reshape(x_train.shape[0], new_dimension)\n",
        "x_val = x_val.reshape(x_val.shape[0], new_dimension)\n",
        "test_images = test_images.reshape(test_images.shape[0], new_dimension)\n",
        "\n",
        "print(\"x_train: {}\".format(x_train.shape)) #prints x_train: (50000, 784)\n",
        "print(\"x_val: {}\".format(x_val.shape)) #prints x_val: (10000, 784)\n",
        "print(\"test_images: {}\".format(test_images.shape)) #prints test_images: (10000, 784)"
      ],
      "metadata": {
        "colab": {
          "base_uri": "https://localhost:8080/"
        },
        "id": "K3Wsf3XlHNEr",
        "outputId": "e54e5636-80a5-463b-a2af-d481515069b7"
      },
      "execution_count": 33,
      "outputs": [
        {
          "output_type": "stream",
          "name": "stdout",
          "text": [
            "x_train: (50000, 784)\n",
            "x_val: (10000, 784)\n",
            "test_images: (10000, 784)\n"
          ]
        }
      ]
    },
    {
      "cell_type": "code",
      "source": [
        "# Let us encode labels to categorical variables\n",
        "from tensorflow.keras.utils import to_categorical\n",
        "no_labels = 10\n",
        "y_train = to_categorical(y_train, no_labels)\n",
        "y_val = to_categorical(y_val, no_labels)\n",
        "y_test = to_categorical(test_labels, no_labels)"
      ],
      "metadata": {
        "id": "FMFdH9JkK43w"
      },
      "execution_count": 35,
      "outputs": []
    },
    {
      "cell_type": "code",
      "source": [
        "# Let us setup the hyprparameters\n",
        "X = tf.placeholder(tf.float32, [None,new_dimension])\n",
        "y = tf.placeholder(tf.float32, [None, no_labels])\n",
        "\n",
        "# Now we will create the model architecture\n",
        "def multilayer_perceptron(x, no_classes, first_layer_neurons = 256, second_layer_neurons = 128):\n",
        "  # first layer\n",
        "  first_weight = tf.Variable(tf.random_uniform([new_dimension ,first_layer_neurons]))\n",
        "  first_bias = tf.Variable(tf.zeros([first_layer_neurons]))\n",
        "  first_layer_output = tf.nn.relu(tf.add(tf.matmul(x, first_weight), first_bias))\n",
        "\n",
        "  # second layer\n",
        "  second_weight = tf.Variable(tf.random_uniform([first_layer_neurons,second_layer_neurons]))\n",
        "  second_bias = tf.Variable(tf.zeros([second_layer_neurons]))\n",
        "  second_layer_output = tf.nn.relu(tf.add(tf.matmul(first_layer_output, second_weight), second_bias))\n",
        "\n",
        "  # output layer\n",
        "  final_weight = tf.Variable(tf.random_uniform([second_layer_neurons, no_classes]))\n",
        "  final_bias = tf.Variable(tf.zeros([no_classes]))\n",
        "  logits = tf.add(tf.matmul(second_layer_output, final_weight), final_bias)\n",
        "  \n",
        "  return logits"
      ],
      "metadata": {
        "id": "YHIeuxHDLvBR"
      },
      "execution_count": 36,
      "outputs": []
    },
    {
      "cell_type": "code",
      "source": [
        "logits = multilayer_perceptron(X, no_labels)\n",
        "learning_rate = 0.01\n",
        "#we define the loss and optimiser for the network\n",
        "loss_op = tf.reduce_mean(tf.nn.softmax_cross_entropy_with_logits(logits=logits, labels=y))\n",
        "optimiser = tf.train.AdamOptimizer(learning_rate=learning_rate)\n",
        "train_op = optimiser.minimize(loss_op)\n",
        "\n",
        "init = tf.global_variables_initializer()\n",
        "epochs = 20\n",
        "batch_size = 1000\n",
        "iteration = len(x_train) // batch_size"
      ],
      "metadata": {
        "id": "fgTJf4abO7yq"
      },
      "execution_count": 43,
      "outputs": []
    },
    {
      "cell_type": "code",
      "source": [
        "#train model\n",
        "with tf.Session() as session:\n",
        " session.run(init)\n",
        " for epoch in range(epochs):\n",
        "   average_cost = 0\n",
        "   start, end = 0, batch_size\n",
        "   \n",
        "   for i in range(iteration):\n",
        "     batch_x, batch_y = x_train[start: end], y_train[start: end]\n",
        "     _, loss = session.run([train_op, loss_op], feed_dict={X: batch_x, y: batch_y})\n",
        "     start += batch_size\n",
        "     end += batch_size\n",
        "     #average loss\n",
        "     average_cost += loss/iteration\n",
        "   print(\"Epoch========{}\".format(epoch))\n",
        "\n",
        " #evaluate model\n",
        " prediction = tf.nn.softmax(logits)\n",
        " ground_truth = tf.equal(tf.argmax(prediction, 1), tf.argmax(y, 1))\n",
        " accuracy = tf.reduce_mean(tf.cast(ground_truth, \"float\"))\n",
        " print(\"Accuracy: {}\".format(accuracy.eval({X: test_images, y: y_test})))"
      ],
      "metadata": {
        "colab": {
          "base_uri": "https://localhost:8080/"
        },
        "id": "m2Wm6Y-YPP6Z",
        "outputId": "e9f4b67f-1bbe-47b3-f301-db8dfb000eb0"
      },
      "execution_count": 46,
      "outputs": [
        {
          "output_type": "stream",
          "name": "stdout",
          "text": [
            "Epoch========0\n",
            "Epoch========1\n",
            "Epoch========2\n",
            "Epoch========3\n",
            "Epoch========4\n",
            "Epoch========5\n",
            "Epoch========6\n",
            "Epoch========7\n",
            "Epoch========8\n",
            "Epoch========9\n",
            "Epoch========10\n",
            "Epoch========11\n",
            "Epoch========12\n",
            "Epoch========13\n",
            "Epoch========14\n",
            "Epoch========15\n",
            "Epoch========16\n",
            "Epoch========17\n",
            "Epoch========18\n",
            "Epoch========19\n",
            "Accuracy: 0.909500002861023\n"
          ]
        }
      ]
    }
  ]
}